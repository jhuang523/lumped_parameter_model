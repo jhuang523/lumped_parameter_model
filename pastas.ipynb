{
 "cells": [
  {
   "cell_type": "code",
   "execution_count": 7,
   "id": "9da22387",
   "metadata": {},
   "outputs": [],
   "source": [
    "import matplotlib.pyplot as plt\n",
    "import pandas as pd\n",
    "import numpy as np\n",
    "import seaborn as sns\n",
    "import importlib\n",
    "import lumped_parameter_model\n",
    "import utils \n",
    "import stats\n",
    "importlib.reload(lumped_parameter_model)\n",
    "importlib.reload(utils)\n",
    "importlib.reload(stats)\n",
    "from lumped_parameter_model import *\n",
    "from utils import *\n",
    "from stats import *\n",
    "from scipy import optimize\n",
    "from sklearn.metrics import mean_squared_error, mean_absolute_percentage_error\n",
    "import pastas as ps"
   ]
  },
  {
   "cell_type": "code",
   "execution_count": 34,
   "id": "19eb7f3c",
   "metadata": {},
   "outputs": [],
   "source": [
    "Q = convert_df_to_date_time(pd.read_csv('discharge_full_year_2018.csv'), 'Date').set_index('Date')\n",
    "h = convert_df_to_date_time(pd.read_csv('2018_MRSW_year_FINAL.csv'), 'datetime').set_index('datetime')\n",
    "r = convert_hourly_to_daily(convert_df_to_date_time(pd.read_csv('2017_2021_simulated_recharge_hourly.csv'), 'DATE'), 'DATE').set_index('DATE')\n",
    "#clean data\n",
    "Q = Q.dropna().rename({'Q [m3/day]' : 'Q'}, axis = 1)['Q']\n",
    "h = h.dropna()\n",
    "r = r.dropna()\n",
    "r = r[(r.index >= '2018-01-01') & (r.index <= '2018-12-31')] #get 2018 data only\n",
    "h = h[h['gw_elev[m]'] > h['gw_elev[m]'].quantile(0.05)] #get rid of outliersQ = Q.rename({'Q [m3/day]' :'Q'},axis =1)\n",
    "h = h.rename({'gw_elev[m]' : 'h'}, axis = 1)['h']\n",
    "r = r[r.index.isin(h.index)].rename({'RCH[m/day]' : 'r'}, axis = 1)['r']\n"
   ]
  },
  {
   "cell_type": "code",
   "execution_count": 31,
   "id": "7c8b0feb",
   "metadata": {},
   "outputs": [],
   "source": [
    "model = ps.Model(Q, name = 'Q')"
   ]
  },
  {
   "cell_type": "code",
   "execution_count": 36,
   "id": "23343d0f",
   "metadata": {},
   "outputs": [
    {
     "name": "stderr",
     "output_type": "stream",
     "text": [
      "The frequency of the index of time series r could not be inferred. Please provide a time series with a regular time step.\n"
     ]
    },
    {
     "ename": "ValueError",
     "evalue": "The frequency of the index of time series r could not be inferred. Please provide a time series with a regular time step.",
     "output_type": "error",
     "traceback": [
      "\u001b[1;31m---------------------------------------------------------------------------\u001b[0m",
      "\u001b[1;31mValueError\u001b[0m                                Traceback (most recent call last)",
      "Cell \u001b[1;32mIn[36], line 1\u001b[0m\n\u001b[1;32m----> 1\u001b[0m r_model \u001b[38;5;241m=\u001b[39m \u001b[43mps\u001b[49m\u001b[38;5;241;43m.\u001b[39;49m\u001b[43mStressModel\u001b[49m\u001b[43m(\u001b[49m\u001b[43mr\u001b[49m\u001b[43m,\u001b[49m\u001b[43m \u001b[49m\u001b[43mps\u001b[49m\u001b[38;5;241;43m.\u001b[39;49m\u001b[43mGamma\u001b[49m\u001b[43m(\u001b[49m\u001b[43m)\u001b[49m\u001b[43m,\u001b[49m\u001b[43m \u001b[49m\u001b[43mname\u001b[49m\u001b[43m \u001b[49m\u001b[38;5;241;43m=\u001b[39;49m\u001b[43m \u001b[49m\u001b[38;5;124;43m'\u001b[39;49m\u001b[38;5;124;43mr\u001b[39;49m\u001b[38;5;124;43m'\u001b[39;49m\u001b[43m)\u001b[49m\n",
      "File \u001b[1;32mc:\\Users\\huan1428\\.conda\\envs\\pastas\\Lib\\site-packages\\pastas\\stressmodels.py:374\u001b[0m, in \u001b[0;36mStressModel.__init__\u001b[1;34m(self, stress, rfunc, name, up, settings, metadata, gain_scale_factor)\u001b[0m\n\u001b[0;32m    364\u001b[0m \u001b[38;5;28;01mdef\u001b[39;00m \u001b[38;5;21m__init__\u001b[39m(\n\u001b[0;32m    365\u001b[0m     \u001b[38;5;28mself\u001b[39m,\n\u001b[0;32m    366\u001b[0m     stress: Series,\n\u001b[1;32m   (...)\u001b[0m\n\u001b[0;32m    372\u001b[0m     gain_scale_factor: Optional[\u001b[38;5;28mfloat\u001b[39m] \u001b[38;5;241m=\u001b[39m \u001b[38;5;28;01mNone\u001b[39;00m,\n\u001b[0;32m    373\u001b[0m ) \u001b[38;5;241m-\u001b[39m\u001b[38;5;241m>\u001b[39m \u001b[38;5;28;01mNone\u001b[39;00m:\n\u001b[1;32m--> 374\u001b[0m     stress \u001b[38;5;241m=\u001b[39m \u001b[43mTimeSeries\u001b[49m\u001b[43m(\u001b[49m\u001b[43mstress\u001b[49m\u001b[43m,\u001b[49m\u001b[43m \u001b[49m\u001b[43msettings\u001b[49m\u001b[38;5;241;43m=\u001b[39;49m\u001b[43msettings\u001b[49m\u001b[43m,\u001b[49m\u001b[43m \u001b[49m\u001b[43mmetadata\u001b[49m\u001b[38;5;241;43m=\u001b[39;49m\u001b[43mmetadata\u001b[49m\u001b[43m)\u001b[49m\n\u001b[0;32m    376\u001b[0m     StressModelBase\u001b[38;5;241m.\u001b[39m\u001b[38;5;21m__init__\u001b[39m(\n\u001b[0;32m    377\u001b[0m         \u001b[38;5;28mself\u001b[39m,\n\u001b[0;32m    378\u001b[0m         name\u001b[38;5;241m=\u001b[39mname,\n\u001b[1;32m   (...)\u001b[0m\n\u001b[0;32m    385\u001b[0m         ),\n\u001b[0;32m    386\u001b[0m     )\n\u001b[0;32m    388\u001b[0m     \u001b[38;5;28mself\u001b[39m\u001b[38;5;241m.\u001b[39mgain_scale_factor \u001b[38;5;241m=\u001b[39m gain_scale_factor\n",
      "File \u001b[1;32mc:\\Users\\huan1428\\.conda\\envs\\pastas\\Lib\\site-packages\\pastas\\timeseries.py:122\u001b[0m, in \u001b[0;36mTimeSeries.__init__\u001b[1;34m(self, series, name, settings, metadata)\u001b[0m\n\u001b[0;32m    116\u001b[0m         \u001b[38;5;28;01mif\u001b[39;00m settings[\u001b[38;5;124m\"\u001b[39m\u001b[38;5;124mfill_nan\u001b[39m\u001b[38;5;124m\"\u001b[39m] \u001b[38;5;241m==\u001b[39m \u001b[38;5;124m\"\u001b[39m\u001b[38;5;124mdrop\u001b[39m\u001b[38;5;124m\"\u001b[39m:\n\u001b[0;32m    117\u001b[0m             \u001b[38;5;28;01mraise\u001b[39;00m \u001b[38;5;167;01mUserWarning\u001b[39;00m(\n\u001b[0;32m    118\u001b[0m                 \u001b[38;5;124m\"\u001b[39m\u001b[38;5;124mThe fill_nan setting \u001b[39m\u001b[38;5;124m'\u001b[39m\u001b[38;5;124mdrop\u001b[39m\u001b[38;5;124m'\u001b[39m\u001b[38;5;124m for a stress is not allowed \u001b[39m\u001b[38;5;124m\"\u001b[39m\n\u001b[0;32m    119\u001b[0m                 \u001b[38;5;124m\"\u001b[39m\u001b[38;5;124mbecause the stress time series need to be equidistant. \u001b[39m\u001b[38;5;124m\"\u001b[39m\n\u001b[0;32m    120\u001b[0m                 \u001b[38;5;124m\"\u001b[39m\u001b[38;5;124mPlease change this.\u001b[39m\u001b[38;5;124m\"\u001b[39m\n\u001b[0;32m    121\u001b[0m             )\n\u001b[1;32m--> 122\u001b[0m     \u001b[43mvalidate_stress\u001b[49m\u001b[43m(\u001b[49m\u001b[43mseries\u001b[49m\u001b[43m)\u001b[49m\n\u001b[0;32m    124\u001b[0m \u001b[38;5;66;03m# Store a copy of the original series\u001b[39;00m\n\u001b[0;32m    125\u001b[0m \u001b[38;5;28mself\u001b[39m\u001b[38;5;241m.\u001b[39m_series_original \u001b[38;5;241m=\u001b[39m series\u001b[38;5;241m.\u001b[39mcopy()  \u001b[38;5;66;03m# copy of the original series\u001b[39;00m\n",
      "File \u001b[1;32mc:\\Users\\huan1428\\.conda\\envs\\pastas\\Lib\\site-packages\\pastas\\timeseries.py:644\u001b[0m, in \u001b[0;36mvalidate_stress\u001b[1;34m(series)\u001b[0m\n\u001b[0;32m    610\u001b[0m \u001b[38;5;28;01mdef\u001b[39;00m \u001b[38;5;21mvalidate_stress\u001b[39m(series: Series):\n\u001b[0;32m    611\u001b[0m \u001b[38;5;250m    \u001b[39m\u001b[38;5;124;03m\"\"\"Method to validate user-provided stress input time series.\u001b[39;00m\n\u001b[0;32m    612\u001b[0m \n\u001b[0;32m    613\u001b[0m \u001b[38;5;124;03m    Parameters\u001b[39;00m\n\u001b[1;32m   (...)\u001b[0m\n\u001b[0;32m    642\u001b[0m \u001b[38;5;124;03m    >>> ps.validate_stress(series)\u001b[39;00m\n\u001b[0;32m    643\u001b[0m \u001b[38;5;124;03m    \"\"\"\u001b[39;00m\n\u001b[1;32m--> 644\u001b[0m     \u001b[38;5;28;01mreturn\u001b[39;00m \u001b[43m_validate_series\u001b[49m\u001b[43m(\u001b[49m\u001b[43mseries\u001b[49m\u001b[43m,\u001b[49m\u001b[43m \u001b[49m\u001b[43mequidistant\u001b[49m\u001b[38;5;241;43m=\u001b[39;49m\u001b[38;5;28;43;01mTrue\u001b[39;49;00m\u001b[43m)\u001b[49m\n",
      "File \u001b[1;32mc:\\Users\\huan1428\\.conda\\envs\\pastas\\Lib\\site-packages\\pastas\\timeseries.py:785\u001b[0m, in \u001b[0;36m_validate_series\u001b[1;34m(series, equidistant)\u001b[0m\n\u001b[0;32m    780\u001b[0m         msg \u001b[38;5;241m=\u001b[39m (\n\u001b[0;32m    781\u001b[0m             \u001b[38;5;124m\"\u001b[39m\u001b[38;5;124mThe frequency of the index of time series \u001b[39m\u001b[38;5;132;01m%s\u001b[39;00m\u001b[38;5;124m could not be \u001b[39m\u001b[38;5;124m\"\u001b[39m\n\u001b[0;32m    782\u001b[0m             \u001b[38;5;124m\"\u001b[39m\u001b[38;5;124minferred. Please provide a time series with a regular time step.\u001b[39m\u001b[38;5;124m\"\u001b[39m\n\u001b[0;32m    783\u001b[0m         )\n\u001b[0;32m    784\u001b[0m         logger\u001b[38;5;241m.\u001b[39merror(msg, name)\n\u001b[1;32m--> 785\u001b[0m         \u001b[38;5;28;01mraise\u001b[39;00m \u001b[38;5;167;01mValueError\u001b[39;00m(msg \u001b[38;5;241m%\u001b[39m name)\n\u001b[0;32m    787\u001b[0m \u001b[38;5;66;03m# If all checks are passed, return True\u001b[39;00m\n\u001b[0;32m    788\u001b[0m \u001b[38;5;28;01mreturn\u001b[39;00m \u001b[38;5;28;01mTrue\u001b[39;00m\n",
      "\u001b[1;31mValueError\u001b[0m: The frequency of the index of time series r could not be inferred. Please provide a time series with a regular time step."
     ]
    }
   ],
   "source": [
    "r_model = ps.StressModel(r, ps.Gamma(), name = 'r')"
   ]
  },
  {
   "cell_type": "code",
   "execution_count": null,
   "id": "a31fda09",
   "metadata": {},
   "outputs": [
    {
     "data": {
      "text/plain": [
       "np.float64(11.0)"
      ]
     },
     "execution_count": 43,
     "metadata": {},
     "output_type": "execute_result"
    }
   ],
   "source": []
  },
  {
   "cell_type": "code",
   "execution_count": null,
   "id": "e49b4b32",
   "metadata": {},
   "outputs": [],
   "source": []
  }
 ],
 "metadata": {
  "kernelspec": {
   "display_name": "pastas",
   "language": "python",
   "name": "python3"
  },
  "language_info": {
   "codemirror_mode": {
    "name": "ipython",
    "version": 3
   },
   "file_extension": ".py",
   "mimetype": "text/x-python",
   "name": "python",
   "nbconvert_exporter": "python",
   "pygments_lexer": "ipython3",
   "version": "3.13.3"
  }
 },
 "nbformat": 4,
 "nbformat_minor": 5
}
